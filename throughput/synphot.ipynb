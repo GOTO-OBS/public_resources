{
 "cells": [
  {
   "cell_type": "code",
   "execution_count": 1,
   "metadata": {},
   "outputs": [],
   "source": [
    "import math\n",
    "import os\n",
    "\n",
    "import numpy as np\n",
    "\n",
    "import pandas as pd\n",
    "\n",
    "from scipy.interpolate import interp1d\n",
    "\n",
    "import matplotlib.pyplot as plt\n",
    "import matplotlib.ticker as ticker\n",
    "\n",
    "import warnings\n",
    "with warnings.catch_warnings():\n",
    "    warnings.simplefilter('ignore')\n",
    "    import pysynphot as synphot"
   ]
  },
  {
   "cell_type": "code",
   "execution_count": 2,
   "metadata": {},
   "outputs": [
    {
     "name": "stdout",
     "output_type": "stream",
     "text": [
      "OTA area: 973 cm2\n"
     ]
    }
   ],
   "source": [
    "d1 = 40\n",
    "d2 = 19\n",
    "area = math.pi * (d1/2)**2 - math.pi * (d2/2)**2\n",
    "print('OTA area: {:.0f} cm2'.format(area))\n",
    "\n",
    "dark_current = 0.0010 # e-/s/pix\n",
    "readout = 13.0 # e-/pix\n",
    "plate_scale = 1.24 # arcsec/pix\n",
    "\n",
    "airmass = 1.0\n",
    "seeing = 1.5 # arcsec\n",
    "binfac = 1\n",
    "plate_scale = plate_scale * binfac\n",
    "target_snr = 5\n",
    "exptime = 60"
   ]
  },
  {
   "cell_type": "code",
   "execution_count": 3,
   "metadata": {},
   "outputs": [],
   "source": [
    "data_dir = 'data'\n",
    "wave_range = np.arange(300, 900, 1)\n",
    "\n",
    "# Read in sky background data files, interpolate to the given wave range and store\n",
    "sky_data = {}\n",
    "for filename in sorted(os.listdir(data_dir)):\n",
    "    if not filename.endswith('.data') or 'sky' not in filename:\n",
    "        continue\n",
    "    key = filename.split('.')[0]\n",
    "    data = pd.read_csv(os.path.join(data_dir, filename), names=['wave', 'throughput'], index_col=0, comment='#', sep=' ')\n",
    "    data_interp = interp1d(data.index, data.throughput, bounds_error=False, fill_value='extrapolate')(wave_range)\n",
    "    sky_data[key] = data_interp\n",
    "\n",
    "# Make into a dataframe\n",
    "sky_data = pd.DataFrame(data=sky_data, index=wave_range)\n",
    "\n",
    "# Save all data as a CSV\n",
    "sky_data.to_csv(os.path.join(data_dir, 'sky.csv'))\n",
    "#sky_data"
   ]
  },
  {
   "cell_type": "code",
   "execution_count": 4,
   "metadata": {},
   "outputs": [
    {
     "name": "stdout",
     "output_type": "stream",
     "text": [
      "| Filter | Zeropoint </br> (AB mag) | Zeropoint </br> (Vega mag) | Dark sky flux  | Grey sky flux | Bright sky flux | Extinction </br> (mag/airmass) | Limiting mag |\n",
      "| - | - | - | - | - | - | - | - |\n",
      "| L | 22.63 | 22.62 | 0.0031 | 0.0173 | 0.0331 | 0.148 | 19.76 |\n",
      "| R | 21.33 | 21.14 | 0.0014 | 0.0051 | 0.0096 | 0.099 | 18.55 |\n",
      "| G | 21.67 | 21.68 | 0.0012 | 0.0070 | 0.0139 | 0.144 | 18.85 |\n",
      "| B | 21.66 | 21.78 | 0.0007 | 0.0070 | 0.0131 | 0.215 | 18.78 |\n"
     ]
    }
   ],
   "source": [
    "print('| Filter | Zeropoint </br> (AB mag) | Zeropoint </br> (Vega mag) | Dark sky flux  | Grey sky flux | Bright sky flux | Extinction </br> (mag/airmass) | Limiting mag |')\n",
    "print('| - | - | - | - | - | - | - | - |')\n",
    "\n",
    "for filt in ['L', 'R', 'G', 'B']:\n",
    "    print('', end = '|')\n",
    "\n",
    "    print(f' {filt} ', end = '|')\n",
    "    \n",
    "    # Create a PySynphot bandpass of the full throughput model (no atmosphere)\n",
    "    noatm_data = pd.read_csv(os.path.join(data_dir, f'GOTO_{filt}_noatm.data'), names=['wave', 'throughput'], index_col=0, comment='#', sep=' ')\n",
    "    noatm_bandpass = synphot.ArrayBandpass(noatm_data.index*10, noatm_data['throughput'], waveunits='Angstrom')\n",
    "    \n",
    "    # Make an observation of a flat spectrum (AB mag zeropoint)\n",
    "    flat_spec = synphot.FlatSpectrum(3631., fluxunits='Jy')\n",
    "    flat_obs = synphot.Observation(flat_spec, noatm_bandpass, binset=noatm_bandpass.wave)\n",
    "    flat_N = flat_obs.integrate('photlam') * area\n",
    "    flat_zp = 0 - -2.5*np.log10(flat_N/1)\n",
    "    print(f' {flat_zp:>4.2f} ', end = '|')\n",
    "    \n",
    "    # Make an observation of a Vega spectrum (Vega mag zeropoint)\n",
    "    vega_spec = synphot.Vega\n",
    "    vega_spec.convert('photlam')\n",
    "    vega_obs = synphot.Observation(vega_spec, noatm_bandpass, binset=noatm_bandpass.wave)\n",
    "    vega_N = vega_obs.integrate('photlam') * area\n",
    "    vega_zp = 0 - -2.5*np.log10(vega_N/1)\n",
    "    print(f' {vega_zp:>4.2f} ', end = '|')\n",
    "    \n",
    "    for phase in ['sky_dark', 'sky_grey', 'sky_bright']:\n",
    "        # Make an observation of the sky spectrum\n",
    "        sky_spec = synphot.ArraySpectrum(sky_data.index*10, sky_data[phase], waveunits='Angstrom', fluxunits='flam')\n",
    "        sky_spec.convert('photlam')\n",
    "        sky_obs = synphot.Observation(sky_spec, noatm_bandpass, binset=noatm_bandpass.wave)\n",
    "        sky_flux = sky_obs.integrate('photlam')\n",
    "        print(f' {sky_flux:>.4f} ', end = '|')\n",
    "        \n",
    "    # Create a PySynphot bandpass of the full throughput model (including atmosphere)\n",
    "    atm_data = pd.read_csv(os.path.join(data_dir, f'GOTO_{filt}.data'), names=['wave', 'throughput'], index_col=0, comment='#', sep=' ')\n",
    "    atm_bandpass = synphot.ArrayBandpass(atm_data.index*10, atm_data['throughput'], waveunits='Angstrom')\n",
    "    \n",
    "    # Get extinction by comparing atm and no_atm observations\n",
    "    atm_obs = synphot.Observation(flat_spec, atm_bandpass, binset=atm_bandpass.wave)\n",
    "    noatm_obs = synphot.Observation(flat_spec, noatm_bandpass, binset=noatm_bandpass.wave)\n",
    "    extinction = atm_obs.integrate() / noatm_obs.integrate()\n",
    "    extinction = -2.5*np.log10(extinction)\n",
    "    print(f' {extinction:.3f} ', end = '|')\n",
    "    \n",
    "    # ~~~~~~~~~~~~~~~~~~~~~\n",
    "    # Calculate number of pixels in seeing disc\n",
    "    n_pixels = np.pi * ((1.5*seeing)/plate_scale)**2.\n",
    "    \n",
    "    # Calculate sky flux\n",
    "    sky_spec = synphot.ArraySpectrum(sky_data.index*10, sky_data['sky_dark'], waveunits='Angstrom', fluxunits='flam')\n",
    "    sky_spec.convert('photlam')\n",
    "    sky_obs = synphot.Observation(sky_spec, noatm_bandpass, binset=noatm_bandpass.wave)\n",
    "    sky_flux = sky_obs.integrate('photlam')\n",
    "    \n",
    "    # Calculate total noise\n",
    "    sky_signal = sky_flux * area * plate_scale**2 # e-/s/pix\n",
    "    sky_noise = sky_signal * exptime * n_pixels # e-\n",
    "    dark_noise = dark_current * exptime * n_pixels # e-\n",
    "    readout_noise = readout * n_pixels # e-\n",
    "    total_noise = sky_noise + dark_noise + readout_noise**2 # e-\n",
    "\n",
    "    # Calculate the object signal needed to get the target SNR\n",
    "    # NB: found from inverting SNR equation & using quadratic form\n",
    "    obj_signal = target_snr/2 * (target_snr + np.sqrt(target_snr**2 + 4*total_noise)) # e-/sec\n",
    "\n",
    "    # Convert signal into instrumental magnitude\n",
    "    lim_mag_inst = -2.5 * np.log10(obj_signal/exptime) # mag\n",
    "\n",
    "    # Subtract atmospheric extinction\n",
    "    lim_mag_inst = lim_mag_inst - extinction * airmass\n",
    "    \n",
    "    # Convert signal into observed magnitude using zeropoint\n",
    "    lim_mag = lim_mag_inst + flat_zp\n",
    "    \n",
    "    print(f' {lim_mag:>4.2f} ', end = '|')\n",
    "\n",
    "    print()    "
   ]
  },
  {
   "cell_type": "code",
   "execution_count": null,
   "metadata": {},
   "outputs": [],
   "source": []
  }
 ],
 "metadata": {
  "kernelspec": {
   "display_name": "Python 3",
   "language": "python",
   "name": "python3"
  },
  "language_info": {
   "codemirror_mode": {
    "name": "ipython",
    "version": 3
   },
   "file_extension": ".py",
   "mimetype": "text/x-python",
   "name": "python",
   "nbconvert_exporter": "python",
   "pygments_lexer": "ipython3",
   "version": "3.8.5"
  }
 },
 "nbformat": 4,
 "nbformat_minor": 4
}
